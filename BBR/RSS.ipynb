{
 "cells": [
  {
   "cell_type": "code",
   "execution_count": null,
   "metadata": {},
   "outputs": [],
   "source": [
    "import pyrealsense2 as rs\n",
    "import numpy as np\n",
    "import open3d as o3d\n"
   ]
  },
  {
   "cell_type": "code",
   "execution_count": null,
   "metadata": {},
   "outputs": [],
   "source": [
    "import pyrealsense2 as rs\n",
    "import numpy as np\n",
    "import open3d as o3d\n",
    "\n",
    "# Funkcja do przetwarzania klatki i konwersji na chmurę punktów\n",
    "def frame_to_point_cloud(depth_frame):\n",
    "    pc = rs.pointcloud()\n",
    "    print(type(pc))\n",
    "    pc.map_to(frames.get_color_frame())\n",
    "    points = pc.calculate(depth_frame)\n",
    "    vtx = np.asanyarray(points.get_vertices())\n",
    "    vtx_np = np.array([(v[0], v[1], v[2]) for v in vtx], dtype=np.float64)\n",
    "    pcd = o3d.geometry.PointCloud()\n",
    "    pcd.points = o3d.utility.Vector3dVector(vtx_np)\n",
    "    return pcd\n",
    "\n",
    "# Konfiguracja strumienia\n",
    "pipeline = rs.pipeline()\n",
    "config = rs.config()\n",
    "config.enable_stream(rs.stream.depth, 640, 480, rs.format.z16, 30)\n",
    "config.enable_stream(rs.stream.color, 640, 480, rs.format.bgr8, 30)\n",
    "\n",
    "pipeline.start(config)\n",
    "\n",
    "try:\n",
    "    # Lista do przechowywania chmur punktów\n",
    "    point_clouds = []\n",
    "\n",
    "    for _ in range(3):  # Przetwarzanie 3 klatek\n",
    "        frames = pipeline.wait_for_frames()\n",
    "        depth_frame = frames.get_depth_frame()\n",
    "        color_frame = frames.get_color_frame()\n",
    "\n",
    "        if not depth_frame or not color_frame:\n",
    "            continue\n",
    "\n",
    "        # Dodanie chmury punktów do listy\n",
    "        point_clouds.append(frame_to_point_cloud(depth_frame))\n",
    "\n",
    "    # Połączenie chmur punktów\n",
    "    combined_pcd = point_clouds[0]\n",
    "    for pcd in point_clouds[1:]:\n",
    "        combined_pcd += pcd\n",
    "\n",
    "    # Opcjonalnie: Możesz zastosować dalsze przetwarzanie, np. downsampling\n",
    "    # combined_pcd = combined_pcd.voxel_down_sample(voxel_size=0.005)\n",
    "\n",
    "    # Wyświetlenie połączonej chmury punktów\n",
    "    o3d.visualization.draw_geometries([combined_pcd])\n",
    "finally:\n",
    "    pipeline.stop()\n"
   ]
  }
 ],
 "metadata": {
  "kernelspec": {
   "display_name": "Python 3",
   "language": "python",
   "name": "python3"
  },
  "language_info": {
   "name": "python",
   "version": "3.10.13"
  }
 },
 "nbformat": 4,
 "nbformat_minor": 2
}
